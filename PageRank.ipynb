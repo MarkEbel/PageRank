{
  "nbformat": 4,
  "nbformat_minor": 0,
  "metadata": {
    "colab": {
      "name": "PageRank.ipynb",
      "provenance": [],
      "authorship_tag": "ABX9TyPn8qVRDxY9eDWWz1HCRtdi",
      "include_colab_link": true
    },
    "kernelspec": {
      "name": "python3",
      "display_name": "Python 3"
    },
    "language_info": {
      "name": "python"
    }
  },
  "cells": [
    {
      "cell_type": "markdown",
      "metadata": {
        "id": "view-in-github",
        "colab_type": "text"
      },
      "source": [
        "<a href=\"https://colab.research.google.com/github/MarkEbel/PageRank/blob/main/PageRank.ipynb\" target=\"_parent\"><img src=\"https://colab.research.google.com/assets/colab-badge.svg\" alt=\"Open In Colab\"/></a>"
      ]
    },
    {
      "cell_type": "code",
      "metadata": {
        "id": "VSB_KTmtyNac"
      },
      "source": [
        "import random\n",
        "import matplotlib.pyplot as plt\n",
        "import numpy as np\n",
        "\n",
        "e = {(0,2),(1,1),(1,2),(2,0),(2,2),(2,3),(3,3),(3,4),(4,6),(6,4),(6,6),(5,6),(5,5),(6,3)}\n",
        "\n",
        "def randomwalk(edges, a, iters):\n",
        "  visted = {}\n",
        "  allNodes = list(set([t[0] for t in e ]))\n",
        "  current = 0; #set with random start\n",
        "  for i in range(iters):\n",
        "    if current in visted:\n",
        "        visted[current] += 1\n",
        "    else:\n",
        "        visted[current] = 1\n",
        "\n",
        "    nextNodes = [t[1] for t in e if t[0] == current]\n",
        "    if a <= random.random() and len(nextNodes) > 0:\n",
        "      #not completely random next node\n",
        "      current = nextNodes[random.randint(0,len(nextNodes) - 1)]\n",
        "    else:\n",
        "      #random next node\n",
        "      current = allNodes[random.randint(0, len(allNodes) - 1)]\n",
        "  \n",
        "  %matplotlib inline\n",
        "  visted = {k: v for k, v in sorted(visted.items(), key=lambda item: item[0])}\n",
        "  \n",
        "  plt.bar(visted.keys(), visted.values(), color='g')\n",
        "  plt.ylabel('Visted times')\n",
        "  plt.xlabel('States');\n",
        "  \n",
        "def pagerank(edges, a, iters):\n",
        "  #compute transition probablity matrix\n",
        "  #given state i what is likelyhood of getting to state j\n",
        "  #have a matrix of size n x n\n",
        "  #go through edges getting amount of lengths and adding to matrix\n",
        "  allNodes = list(set([t[0] for t in e ]))\n",
        "  n = len(allNodes)\n",
        "  teleRandom = a/n\n",
        "  m = np.full((n,n), teleRandom)\n",
        "  for i in allNodes:\n",
        "    #sort out matrix\n",
        "    # not teleporting and going via edges\n",
        "    nextNodes = [t[1] for t in e if t[0] == i]\n",
        "    if len(nextNodes) == 0:\n",
        "      for j in allNodes:\n",
        "        #set to teleport as dead end\n",
        "        m[i][j] = 1/len(allNodes)\n",
        "    else:\n",
        "      v = (1-a)/len(nextNodes)\n",
        "      for j in nextNodes:\n",
        "        # add to all nextnodes\n",
        "        m[i][j] += v\n",
        "\n",
        "  apv = np.full((1,n),1/n)\n",
        "  tmp = m\n",
        "  for i in range(iters):\n",
        "    tmp = tmp.dot(m)\n",
        "    #multiple arbituatry vector by M ^ iters\n",
        "  \n",
        "  apv = apv.dot(tmp) \n",
        "\n",
        "  return print(apv[0]) # returns vector formatted well\n",
        "\n",
        "randomwalk(e, 0.1, 1000)\n",
        "pagerank(e, 0.1, 15)\n",
        "\n",
        "\n",
        "# They both converge to the steady state, however pagerank converges much quicker than randomwalk.\n",
        "# For a = 0.1, it took approximately 15 iterations of pagerank but at least 700 iterations of randomwalk to converge.\n",
        "# However for comparable accuarcy 1000 iterations of randomwalk is desired.\n",
        "\n",
        "# If a page was a pointed to by many pages or points to itself increasing the amount of outlinks\n",
        "# could increase the amount of time travelled to other pages and not this page. \n",
        "# Therefore decreasing its score. It could increase its score by creating links to pages that just link to itself.\n",
        "# This can form cycles and increase the score of the page."
      ],
      "execution_count": null,
      "outputs": []
    }
  ]
}